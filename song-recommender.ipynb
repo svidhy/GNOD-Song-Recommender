{
 "cells": [
  {
   "cell_type": "code",
   "execution_count": 1,
   "id": "df3cc43b",
   "metadata": {},
   "outputs": [],
   "source": [
    "import requests\n",
    "import pandas as pd\n",
    "import numpy as np\n",
    "import regex as re\n",
    "import spotipy\n",
    "from spotipy.oauth2 import SpotifyClientCredentials\n",
    "from pandas import json_normalize\n",
    "# K-means\n",
    "import numpy as np\n",
    "import matplotlib.pyplot as plt\n",
    "import pickle\n",
    "\n",
    "from sklearn import cluster, datasets\n",
    "from sklearn.preprocessing import StandardScaler\n",
    "from sklearn.cluster import KMeans"
   ]
  },
  {
   "cell_type": "code",
   "execution_count": 2,
   "id": "55cef2d6",
   "metadata": {
    "scrolled": true
   },
   "outputs": [
    {
     "name": "stdout",
     "output_type": "stream",
     "text": [
      "                       song_and_artist  cluster\n",
      "0     If I Ever Feel Better by Phoenix        1\n",
      "1  Dance To The Underground by Radio 4        9\n",
      "2              How We Do by Mount Sims        1\n",
      "3        Fuck the Pain Away by Peaches        9\n",
      "4         Street Surgery 2 by Zongamin        6\n"
     ]
    }
   ],
   "source": [
    "#Import the previously save spotify with cluster where the spotify songs are already divided in clusters.\n",
    "spotify_with_cluster = pd.read_csv('spotify_with_cluster.csv')\n",
    "print(spotify_with_cluster.head())"
   ]
  },
  {
   "cell_type": "markdown",
   "id": "2f84566c",
   "metadata": {},
   "source": [
    "### Song Recommender First Iteration\n",
    "- Ask for user input\n",
    "- If song present in the list, then recommend another song from the list\n",
    "- If not, a polite message"
   ]
  },
  {
   "cell_type": "code",
   "execution_count": 3,
   "id": "5f7e3ef0",
   "metadata": {},
   "outputs": [],
   "source": [
    "def song_recommender(title, artist):\n",
    "    #Convert the input to lower case\n",
    "    title_input = remove_special_characters(title.lower())\n",
    "    artist_input = remove_special_characters(artist.lower())\n",
    "    \n",
    "    # Check if the input combination is present in the dataframe\n",
    "    result = top_songs_lower[(top_songs_lower['Song'].values == title_input) & (top_songs_lower['Artist'].values == artist_input)]\n",
    "    #print(result)\n",
    "\n",
    "    if not result.empty:\n",
    "        #Get the indices\n",
    "        indices_to_remove = result.index\n",
    "        temp_top_songs = top_songs.drop(indices_to_remove)\n",
    "\n",
    "        rec_song = temp_top_songs.sample().squeeze()\n",
    "        print(f\"You might also like: {rec_song['Song']} by {rec_song['Artist']}\")\n",
    "    else:\n",
    "        #Opening the spotify connection\n",
    "        sp = open_spotify_connection()\n",
    "        \n",
    "        #querying spotify\n",
    "        results = sp.search(q=\"artist:\" + artist_input + \" track:\" + title_input, type=\"track\", limit = 1)\n",
    "        \n",
    "        #First check if the query returns results (i.e total>0)\n",
    "        if results['tracks']['total']!=0 :\n",
    "            track_id = results['tracks']['items'][0]['id'] #Id of the first track\n",
    "            #print(track_id)\n",
    "\n",
    "            #Getting the audio features using the id\n",
    "            new_data = sp.audio_features(track_id)\n",
    "            #print(type(new_data[0]))\n",
    "            data_df = json_normalize(new_data[0]) #normalizing the data to a df\n",
    "            num_data_df = data_df.select_dtypes(include='number') #getting the numerical data only to fit\n",
    "            #print(num_data_df)\n",
    "\n",
    "            #Using pickle to get the existing scaler and kmean\n",
    "            kmeans = pickle.load(open('kmean.pkl', 'rb'))\n",
    "            scaler = pickle.load(open('scaler.pkl','rb'))\n",
    "            X_prep = scaler.transform(num_data_df)\n",
    "            predicted_cluster = kmeans.predict(X_prep)\n",
    "            cluster = predicted_cluster[0]\n",
    "            #print(cluster)\n",
    "            rec_song = spotify_with_cluster[spotify_with_cluster['cluster']== cluster].sample().squeeze()\n",
    "            #print(rec_song)\n",
    "            print(f\"You might also like: {rec_song['song_and_artist']}\")\n",
    "        else:\n",
    "            print(\"The song is not in Spotify. Please try again\")\n",
    "\n",
    "def remove_special_characters(text):\n",
    "    # Use a regular expression to replace non-alphanumeric characters with an empty string\n",
    "    return ''.join(e for e in text if e.isalnum() or e.isspace())\n",
    "\n",
    "def open_spotify_connection():\n",
    "    #Opens a new spotify connection\n",
    "    secrets_file = open(\"secrets.txt\",\"r\")\n",
    "    string = secrets_file.read()\n",
    "\n",
    "    secrets_dict={}\n",
    "    for line in string.split('\\n'):\n",
    "        if len(line) > 0:\n",
    "            #print(line.split(':'))\n",
    "            secrets_dict[line.split(':')[0]]=line.split(':')[1].strip()\n",
    "    sp = spotipy.Spotify(auth_manager=SpotifyClientCredentials(client_id=secrets_dict['clientid'],\n",
    "                                                           client_secret=secrets_dict['clientsecret']))\n",
    "    return sp;"
   ]
  },
  {
   "cell_type": "code",
   "execution_count": 4,
   "id": "681de514",
   "metadata": {},
   "outputs": [],
   "source": [
    "# Getting all lower str\n",
    "top_songs = pd.read_csv('top_songs.csv')\n",
    "top_songs_lower = top_songs.apply(lambda x: x.astype(str).str.lower())\n",
    "top_songs_lower['Song'] = top_songs_lower['Song'].apply(remove_special_characters)\n",
    "#top_songs_lower"
   ]
  },
  {
   "cell_type": "code",
   "execution_count": 9,
   "id": "1e35d2b8",
   "metadata": {
    "scrolled": true
   },
   "outputs": [
    {
     "name": "stdout",
     "output_type": "stream",
     "text": [
      "Please Enter the Song Title: unstoppable\n",
      "Please Enter the Artist Name: sia\n",
      "You might also like: Seasons by Maroon 5\n"
     ]
    }
   ],
   "source": [
    "#Get user input\n",
    "title_input = input('Please Enter the Song Title: ')\n",
    "artist_input = input('Please Enter the Artist Name: ')\n",
    "song_recommender(title_input, artist_input)"
   ]
  },
  {
   "cell_type": "code",
   "execution_count": null,
   "id": "16829bc1",
   "metadata": {},
   "outputs": [],
   "source": []
  },
  {
   "cell_type": "code",
   "execution_count": null,
   "id": "1dfe588e",
   "metadata": {},
   "outputs": [],
   "source": []
  }
 ],
 "metadata": {
  "kernelspec": {
   "display_name": "Python 3 (ipykernel)",
   "language": "python",
   "name": "python3"
  },
  "language_info": {
   "codemirror_mode": {
    "name": "ipython",
    "version": 3
   },
   "file_extension": ".py",
   "mimetype": "text/x-python",
   "name": "python",
   "nbconvert_exporter": "python",
   "pygments_lexer": "ipython3",
   "version": "3.9.13"
  }
 },
 "nbformat": 4,
 "nbformat_minor": 5
}
