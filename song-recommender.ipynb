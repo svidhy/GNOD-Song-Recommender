{
 "cells": [
  {
   "cell_type": "code",
   "execution_count": 1,
   "id": "bcbd1003",
   "metadata": {},
   "outputs": [],
   "source": [
    "import requests\n",
    "import pandas as pd\n",
    "import numpy as np\n",
    "import regex as re\n",
    "import spotipy\n",
    "from spotipy.oauth2 import SpotifyClientCredentials\n",
    "from pandas import json_normalize\n",
    "# K-means\n",
    "import numpy as np\n",
    "import matplotlib.pyplot as plt\n",
    "import pickle\n",
    "\n",
    "from sklearn import cluster, datasets\n",
    "from sklearn.preprocessing import StandardScaler\n",
    "from sklearn.cluster import KMeans"
   ]
  },
  {
   "cell_type": "code",
   "execution_count": 2,
   "id": "8e8f974f",
   "metadata": {
    "scrolled": true
   },
   "outputs": [],
   "source": [
    "#Import the previously save spotify with cluster where the spotify songs are already divided in clusters.\n",
    "spotify_with_cluster = pd.read_csv('spotify_with_cluster.csv')\n",
    "#print(spotify_with_cluster.head())"
   ]
  },
  {
   "cell_type": "markdown",
   "id": "4a469d33",
   "metadata": {},
   "source": [
    "### Song Recommender First Iteration\n",
    "- Ask for user input\n",
    "- If song present in the list, then recommend another song from the list\n",
    "- If not, a polite message"
   ]
  },
  {
   "cell_type": "code",
   "execution_count": 13,
   "id": "964ffcd3",
   "metadata": {},
   "outputs": [],
   "source": [
    "def song_recommender(title, artist):\n",
    "    #Convert the input to lower case\n",
    "    title_input = remove_special_characters(title.lower())\n",
    "    artist_input = remove_special_characters(artist.lower())\n",
    "    \n",
    "    if (artist_input):\n",
    "        # Check if the input combination is present in the dataframe\n",
    "        result = top_songs_lower[(top_songs_lower['Song'].values == title_input) & (top_songs_lower['Artist'].values == artist_input)]\n",
    "        #print(result)\n",
    "    else:\n",
    "        result = top_songs_lower[(top_songs_lower['Song'].values == title_input)]\n",
    "\n",
    "    if not result.empty:\n",
    "        #Get the indices\n",
    "        indices_to_remove = result.index\n",
    "        temp_top_songs = top_songs.drop(indices_to_remove)\n",
    "\n",
    "        rec_song = temp_top_songs.sample().squeeze()\n",
    "        print(f\"You might also like: {rec_song['Song']} by {rec_song['Artist']}\")\n",
    "    else:\n",
    "        #Opening the spotify connection\n",
    "        print(\"Connecting to Spotify\")\n",
    "        sp = open_spotify_connection()\n",
    "        \n",
    "        if (artist_input):        \n",
    "            #querying spotify\n",
    "            results = sp.search(q=\"artist:\" + artist_input + \" track:\" + title_input, type=\"track\", limit = 1)\n",
    "        else:\n",
    "            results = sp.search(q=\"track:\" + title_input, type=\"track\", limit = 1)\n",
    "\n",
    "        #First check if the query returns results (i.e total>0)\n",
    "        if results['tracks']['total']!=0 :\n",
    "            track_id = results['tracks']['items'][0]['id'] #Id of the first track\n",
    "            #print(track_id)\n",
    "\n",
    "            #Getting the audio features using the id\n",
    "            new_data = sp.audio_features(track_id)\n",
    "            #print(type(new_data[0]))\n",
    "            data_df = json_normalize(new_data[0]) #normalizing the data to a df\n",
    "            num_data_df = data_df.select_dtypes(include='number') #getting the numerical data only to fit\n",
    "            #print(num_data_df)\n",
    "\n",
    "            #Using pickle to get the existing scaler and kmean\n",
    "            kmeans = pickle.load(open('kmean.pkl', 'rb'))\n",
    "            scaler = pickle.load(open('scaler.pkl','rb'))\n",
    "            X_prep = scaler.transform(num_data_df)\n",
    "            predicted_cluster = kmeans.predict(X_prep)\n",
    "            cluster = predicted_cluster[0]\n",
    "            #print(cluster)\n",
    "            rec_song = spotify_with_cluster[spotify_with_cluster['cluster']== cluster].sample().squeeze()\n",
    "            #print(rec_song)\n",
    "            print(f\"You might also like: {rec_song['song_and_artist']}\")\n",
    "        else:\n",
    "            print(\"The song is not in Spotify. Please try again\")\n",
    "\n",
    "def remove_special_characters(text):\n",
    "    # Use a regular expression to replace non-alphanumeric characters with an empty string\n",
    "    return ''.join(e for e in text if e.isalnum() or e.isspace())\n",
    "\n",
    "def open_spotify_connection():\n",
    "    #Opens a new spotify connection\n",
    "    secrets_file = open(\"secrets.txt\",\"r\")\n",
    "    string = secrets_file.read()\n",
    "\n",
    "    secrets_dict={}\n",
    "    for line in string.split('\\n'):\n",
    "        if len(line) > 0:\n",
    "            #print(line.split(':'))\n",
    "            secrets_dict[line.split(':')[0]]=line.split(':')[1].strip()\n",
    "    sp = spotipy.Spotify(auth_manager=SpotifyClientCredentials(client_id=secrets_dict['clientid'],\n",
    "                                                           client_secret=secrets_dict['clientsecret']))\n",
    "    return sp;"
   ]
  },
  {
   "cell_type": "code",
   "execution_count": 4,
   "id": "29d29615",
   "metadata": {},
   "outputs": [],
   "source": [
    "# Getting all lower str\n",
    "top_songs = pd.read_csv('top_songs.csv')\n",
    "top_songs_lower = top_songs.apply(lambda x: x.astype(str).str.lower())\n",
    "top_songs_lower['Song'] = top_songs_lower['Song'].apply(remove_special_characters)\n",
    "#top_songs_lower"
   ]
  },
  {
   "cell_type": "code",
   "execution_count": 14,
   "id": "e8547698",
   "metadata": {
    "scrolled": true
   },
   "outputs": [
    {
     "name": "stdout",
     "output_type": "stream",
     "text": [
      "Please Enter the Song Title: poker face\n",
      "Please Enter the Artist Name: lady gaga\n",
      "Connecting to Spotify\n",
      "You might also like: I Will Follow You Into the Dark by Jasmine Thompson\n",
      "Would you like to try again (Yes or No)? yes\n",
      "Please Enter the Song Title: bohemian rhapsody\n",
      "Please Enter the Artist Name: queen\n",
      "Connecting to Spotify\n",
      "You might also like: Somebody Else by Dianas\n",
      "Would you like to try again (Yes or No)? yes\n",
      "Please Enter the Song Title: it's my life\n",
      "Please Enter the Artist Name: bon jovi\n",
      "Connecting to Spotify\n",
      "You might also like: Whiplash by Don Ellis Band\n",
      "Would you like to try again (Yes or No)? inconsolable\n",
      "Thank you. Have a nice day!\n"
     ]
    }
   ],
   "source": [
    "#Get user input\n",
    "i = 1\n",
    "\n",
    "while i!=0:\n",
    "    \n",
    "    title_input = input('Please Enter the Song Title: ')\n",
    "    artist_input = input('Please Enter the Artist Name: ')\n",
    "    if (title_input):\n",
    "        song_recommender(title_input, artist_input)\n",
    "        qn = input('Would you like to try again (Yes or No)? ')\n",
    "        \n",
    "        if (qn.lower() == 'yes'):\n",
    "            i+= 1\n",
    "        else:\n",
    "            print(\"Thank you. Have a nice day!\")\n",
    "            i = 0;\n",
    "    else:\n",
    "        print(\"Song title cannot be empty\")\n",
    "        i+= 1\n",
    "        "
   ]
  },
  {
   "cell_type": "code",
   "execution_count": null,
   "id": "c4e80e6e",
   "metadata": {},
   "outputs": [],
   "source": []
  },
  {
   "cell_type": "code",
   "execution_count": null,
   "id": "fc1116a8",
   "metadata": {},
   "outputs": [],
   "source": []
  },
  {
   "cell_type": "code",
   "execution_count": null,
   "id": "972feac4",
   "metadata": {},
   "outputs": [],
   "source": []
  }
 ],
 "metadata": {
  "kernelspec": {
   "display_name": "Python 3 (ipykernel)",
   "language": "python",
   "name": "python3"
  },
  "language_info": {
   "codemirror_mode": {
    "name": "ipython",
    "version": 3
   },
   "file_extension": ".py",
   "mimetype": "text/x-python",
   "name": "python",
   "nbconvert_exporter": "python",
   "pygments_lexer": "ipython3",
   "version": "3.9.13"
  }
 },
 "nbformat": 4,
 "nbformat_minor": 5
}
