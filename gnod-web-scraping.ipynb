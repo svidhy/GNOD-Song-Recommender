{
 "cells": [
  {
   "cell_type": "code",
   "execution_count": 1,
   "id": "2a96df3f",
   "metadata": {},
   "outputs": [],
   "source": [
    "from bs4 import BeautifulSoup\n",
    "import requests\n",
    "import pandas as pd\n",
    "import numpy as np\n",
    "import regex as re"
   ]
  },
  {
   "cell_type": "code",
   "execution_count": 2,
   "id": "d54ddbbf",
   "metadata": {},
   "outputs": [],
   "source": [
    "# 2. find url and store it in a variable\n",
    "url = \"https://www.popvortex.com/music/charts/top-100-songs.php\""
   ]
  },
  {
   "cell_type": "code",
   "execution_count": 3,
   "id": "74de68ed",
   "metadata": {},
   "outputs": [],
   "source": [
    "# 3. download html with a get request\n",
    "response = requests.get(url)"
   ]
  },
  {
   "cell_type": "code",
   "execution_count": 4,
   "id": "dcc3e6ff",
   "metadata": {},
   "outputs": [
    {
     "data": {
      "text/plain": [
       "200"
      ]
     },
     "execution_count": 4,
     "metadata": {},
     "output_type": "execute_result"
    }
   ],
   "source": [
    "response.status_code # 200 status code means OK!"
   ]
  },
  {
   "cell_type": "code",
   "execution_count": 5,
   "id": "d6da343f",
   "metadata": {},
   "outputs": [],
   "source": [
    "#response.content"
   ]
  },
  {
   "cell_type": "code",
   "execution_count": 6,
   "id": "91575a19",
   "metadata": {},
   "outputs": [],
   "source": [
    "# 4.1. parse html (create the 'soup')\n",
    "soup = BeautifulSoup(response.content, \"html.parser\")"
   ]
  },
  {
   "cell_type": "code",
   "execution_count": 7,
   "id": "c77b83e7",
   "metadata": {},
   "outputs": [],
   "source": [
    "# 4.2. check that the html code looks like it should\n",
    "#soup"
   ]
  },
  {
   "cell_type": "code",
   "execution_count": 8,
   "id": "feebf53b",
   "metadata": {},
   "outputs": [
    {
     "data": {
      "text/plain": [
       "105"
      ]
     },
     "execution_count": 8,
     "metadata": {},
     "output_type": "execute_result"
    }
   ],
   "source": [
    "# 5. retrieve/extract the desired info (here, you'll paste the \"Selector\" you copied before to get the element that belongs to the top movie)\n",
    "len(soup.select(\"body > div.container > div:nth-child(4) > div.col-xs-12.col-md-8 > div.chart-wrapper > div \"))"
   ]
  },
  {
   "cell_type": "code",
   "execution_count": 9,
   "id": "fe38d14c",
   "metadata": {},
   "outputs": [],
   "source": [
    "artist = []\n",
    "song = []\n",
    "genre = []\n",
    "song_info = []\n",
    "\n",
    "for song in soup.find_all('p', class_='title-artist'):\n",
    "    song_name = song.find('cite', class_='title').get_text()\n",
    "    artist_name = song.find('em', class_='artist').get_text()\n",
    "    song_info.append((song_name, artist_name))\n",
    "    \n",
    "#song_info    "
   ]
  },
  {
   "cell_type": "code",
   "execution_count": 10,
   "id": "4c6f3d1c",
   "metadata": {},
   "outputs": [
    {
     "data": {
      "text/html": [
       "<div>\n",
       "<style scoped>\n",
       "    .dataframe tbody tr th:only-of-type {\n",
       "        vertical-align: middle;\n",
       "    }\n",
       "\n",
       "    .dataframe tbody tr th {\n",
       "        vertical-align: top;\n",
       "    }\n",
       "\n",
       "    .dataframe thead th {\n",
       "        text-align: right;\n",
       "    }\n",
       "</style>\n",
       "<table border=\"1\" class=\"dataframe\">\n",
       "  <thead>\n",
       "    <tr style=\"text-align: right;\">\n",
       "      <th></th>\n",
       "      <th>Song</th>\n",
       "      <th>Artist</th>\n",
       "    </tr>\n",
       "  </thead>\n",
       "  <tbody>\n",
       "    <tr>\n",
       "      <th>0</th>\n",
       "      <td>Lovin On Me</td>\n",
       "      <td>Jack Harlow</td>\n",
       "    </tr>\n",
       "    <tr>\n",
       "      <th>1</th>\n",
       "      <td>Lil Boo Thang</td>\n",
       "      <td>Paul Russell</td>\n",
       "    </tr>\n",
       "    <tr>\n",
       "      <th>2</th>\n",
       "      <td>I Remember Everything (feat. Kacey Musgraves)</td>\n",
       "      <td>Zach Bryan</td>\n",
       "    </tr>\n",
       "    <tr>\n",
       "      <th>3</th>\n",
       "      <td>White Horse</td>\n",
       "      <td>Chris Stapleton</td>\n",
       "    </tr>\n",
       "    <tr>\n",
       "      <th>4</th>\n",
       "      <td>Save Me (with Lainey Wilson)</td>\n",
       "      <td>Jelly Roll</td>\n",
       "    </tr>\n",
       "    <tr>\n",
       "      <th>...</th>\n",
       "      <td>...</td>\n",
       "      <td>...</td>\n",
       "    </tr>\n",
       "    <tr>\n",
       "      <th>95</th>\n",
       "      <td>23</td>\n",
       "      <td>Chayce Beckham</td>\n",
       "    </tr>\n",
       "    <tr>\n",
       "      <th>96</th>\n",
       "      <td>This Wish</td>\n",
       "      <td>Ariana DeBose &amp; Disney</td>\n",
       "    </tr>\n",
       "    <tr>\n",
       "      <th>97</th>\n",
       "      <td>Everything I Love</td>\n",
       "      <td>Morgan Wallen</td>\n",
       "    </tr>\n",
       "    <tr>\n",
       "      <th>98</th>\n",
       "      <td>G6</td>\n",
       "      <td>2 Chainz &amp; Lil Wayne</td>\n",
       "    </tr>\n",
       "    <tr>\n",
       "      <th>99</th>\n",
       "      <td>A Lot More Free</td>\n",
       "      <td>Max McNown</td>\n",
       "    </tr>\n",
       "  </tbody>\n",
       "</table>\n",
       "<p>100 rows × 2 columns</p>\n",
       "</div>"
      ],
      "text/plain": [
       "                                             Song                  Artist\n",
       "0                                     Lovin On Me             Jack Harlow\n",
       "1                                   Lil Boo Thang            Paul Russell\n",
       "2   I Remember Everything (feat. Kacey Musgraves)              Zach Bryan\n",
       "3                                     White Horse         Chris Stapleton\n",
       "4                    Save Me (with Lainey Wilson)              Jelly Roll\n",
       "..                                            ...                     ...\n",
       "95                                             23          Chayce Beckham\n",
       "96                                      This Wish  Ariana DeBose & Disney\n",
       "97                              Everything I Love           Morgan Wallen\n",
       "98                                             G6    2 Chainz & Lil Wayne\n",
       "99                                A Lot More Free              Max McNown\n",
       "\n",
       "[100 rows x 2 columns]"
      ]
     },
     "execution_count": 10,
     "metadata": {},
     "output_type": "execute_result"
    }
   ],
   "source": [
    "# each list becomes a column\n",
    "top_100 = pd.DataFrame(song_info, columns=['Song', 'Artist'])\n",
    "\n",
    "top_100"
   ]
  },
  {
   "cell_type": "code",
   "execution_count": 11,
   "id": "0aacfd55",
   "metadata": {},
   "outputs": [],
   "source": [
    "url = \"https://www.popvortex.com/music/charts/top-100-albums.php\"\n",
    "response = requests.get(url)"
   ]
  },
  {
   "cell_type": "code",
   "execution_count": 12,
   "id": "9d2b7949",
   "metadata": {},
   "outputs": [],
   "source": [
    "soup = BeautifulSoup(response.content, \"html.parser\")"
   ]
  },
  {
   "cell_type": "code",
   "execution_count": 13,
   "id": "c08cdda2",
   "metadata": {},
   "outputs": [],
   "source": [
    "artist = []\n",
    "album = []\n",
    "album_info = []\n",
    "\n",
    "for album in soup.find_all('p', class_='title-artist'):\n",
    "    album_name = album.find('cite', class_='title').get_text()\n",
    "    artist_name = album.find('em', class_='artist').get_text()\n",
    "    album_info.append((album_name, artist_name))"
   ]
  },
  {
   "cell_type": "code",
   "execution_count": 14,
   "id": "a2c59f60",
   "metadata": {},
   "outputs": [
    {
     "data": {
      "text/html": [
       "<div>\n",
       "<style scoped>\n",
       "    .dataframe tbody tr th:only-of-type {\n",
       "        vertical-align: middle;\n",
       "    }\n",
       "\n",
       "    .dataframe tbody tr th {\n",
       "        vertical-align: top;\n",
       "    }\n",
       "\n",
       "    .dataframe thead th {\n",
       "        text-align: right;\n",
       "    }\n",
       "</style>\n",
       "<table border=\"1\" class=\"dataframe\">\n",
       "  <thead>\n",
       "    <tr style=\"text-align: right;\">\n",
       "      <th></th>\n",
       "      <th>Song</th>\n",
       "      <th>Artist</th>\n",
       "    </tr>\n",
       "  </thead>\n",
       "  <tbody>\n",
       "    <tr>\n",
       "      <th>0</th>\n",
       "      <td>Rockstar</td>\n",
       "      <td>Dolly Parton</td>\n",
       "    </tr>\n",
       "    <tr>\n",
       "      <th>1</th>\n",
       "      <td>Higher</td>\n",
       "      <td>Chris Stapleton</td>\n",
       "    </tr>\n",
       "    <tr>\n",
       "      <th>2</th>\n",
       "      <td>New Blue Sun</td>\n",
       "      <td>André 3000</td>\n",
       "    </tr>\n",
       "    <tr>\n",
       "      <th>3</th>\n",
       "      <td>1989 (Taylor's Version) [Deluxe]</td>\n",
       "      <td>Taylor Swift</td>\n",
       "    </tr>\n",
       "    <tr>\n",
       "      <th>4</th>\n",
       "      <td>Hannah Waddingham: Home For Christmas (Soundtr...</td>\n",
       "      <td>Hannah Waddingham</td>\n",
       "    </tr>\n",
       "    <tr>\n",
       "      <th>...</th>\n",
       "      <td>...</td>\n",
       "      <td>...</td>\n",
       "    </tr>\n",
       "    <tr>\n",
       "      <th>95</th>\n",
       "      <td>The Lost Christmas Eve</td>\n",
       "      <td>Trans-Siberian Orchestra</td>\n",
       "    </tr>\n",
       "    <tr>\n",
       "      <th>96</th>\n",
       "      <td>Chronicle: The 20 Greatest Hits</td>\n",
       "      <td>Creedence Clearwater Revival</td>\n",
       "    </tr>\n",
       "    <tr>\n",
       "      <th>97</th>\n",
       "      <td>The Classic Christmas Album</td>\n",
       "      <td>Elvis Presley</td>\n",
       "    </tr>\n",
       "    <tr>\n",
       "      <th>98</th>\n",
       "      <td>Hot Rocks 1964-1971</td>\n",
       "      <td>The Rolling Stones</td>\n",
       "    </tr>\n",
       "    <tr>\n",
       "      <th>99</th>\n",
       "      <td>the mockingbird &amp; THE CROW</td>\n",
       "      <td>HARDY</td>\n",
       "    </tr>\n",
       "  </tbody>\n",
       "</table>\n",
       "<p>100 rows × 2 columns</p>\n",
       "</div>"
      ],
      "text/plain": [
       "                                                 Song  \\\n",
       "0                                            Rockstar   \n",
       "1                                              Higher   \n",
       "2                                        New Blue Sun   \n",
       "3                    1989 (Taylor's Version) [Deluxe]   \n",
       "4   Hannah Waddingham: Home For Christmas (Soundtr...   \n",
       "..                                                ...   \n",
       "95                             The Lost Christmas Eve   \n",
       "96                    Chronicle: The 20 Greatest Hits   \n",
       "97                        The Classic Christmas Album   \n",
       "98                                Hot Rocks 1964-1971   \n",
       "99                         the mockingbird & THE CROW   \n",
       "\n",
       "                          Artist  \n",
       "0                   Dolly Parton  \n",
       "1                Chris Stapleton  \n",
       "2                     André 3000  \n",
       "3                   Taylor Swift  \n",
       "4              Hannah Waddingham  \n",
       "..                           ...  \n",
       "95      Trans-Siberian Orchestra  \n",
       "96  Creedence Clearwater Revival  \n",
       "97                 Elvis Presley  \n",
       "98            The Rolling Stones  \n",
       "99                         HARDY  \n",
       "\n",
       "[100 rows x 2 columns]"
      ]
     },
     "execution_count": 14,
     "metadata": {},
     "output_type": "execute_result"
    }
   ],
   "source": [
    "# each list becomes a column\n",
    "top_album = pd.DataFrame(album_info, columns=['Song', 'Artist'])\n",
    "\n",
    "#top_album"
   ]
  },
  {
   "cell_type": "markdown",
   "id": "1063e477",
   "metadata": {},
   "source": [
    "### Wikipedia - List of Songs Recorded by Maroon 5"
   ]
  },
  {
   "cell_type": "code",
   "execution_count": 18,
   "id": "4d0de22f",
   "metadata": {},
   "outputs": [],
   "source": [
    "url = \"https://en.wikipedia.org/wiki/List_of_songs_recorded_by_Maroon_5\"\n",
    "response = requests.get(url)\n",
    "soup = BeautifulSoup(response.content, \"html.parser\")"
   ]
  },
  {
   "cell_type": "code",
   "execution_count": 19,
   "id": "613c3a43",
   "metadata": {},
   "outputs": [],
   "source": [
    "# 4.1. parse html (create the 'soup')\n",
    "soup = BeautifulSoup(response.content, \"html.parser\")\n",
    "#soup"
   ]
  },
  {
   "cell_type": "code",
   "execution_count": 20,
   "id": "e5992046",
   "metadata": {},
   "outputs": [],
   "source": [
    "table = soup.find('table', class_='wikitable')\n",
    "#print(table)"
   ]
  },
  {
   "cell_type": "code",
   "execution_count": 21,
   "id": "8377d563",
   "metadata": {},
   "outputs": [
    {
     "data": {
      "text/html": [
       "<div>\n",
       "<style scoped>\n",
       "    .dataframe tbody tr th:only-of-type {\n",
       "        vertical-align: middle;\n",
       "    }\n",
       "\n",
       "    .dataframe tbody tr th {\n",
       "        vertical-align: top;\n",
       "    }\n",
       "\n",
       "    .dataframe thead th {\n",
       "        text-align: right;\n",
       "    }\n",
       "</style>\n",
       "<table border=\"1\" class=\"dataframe\">\n",
       "  <thead>\n",
       "    <tr style=\"text-align: right;\">\n",
       "      <th></th>\n",
       "      <th>Song</th>\n",
       "      <th>Artist</th>\n",
       "    </tr>\n",
       "  </thead>\n",
       "  <tbody>\n",
       "    <tr>\n",
       "      <th>0</th>\n",
       "      <td>Animals</td>\n",
       "      <td>Maroon 5</td>\n",
       "    </tr>\n",
       "    <tr>\n",
       "      <th>1</th>\n",
       "      <td>Back At Your Door</td>\n",
       "      <td>Maroon 5</td>\n",
       "    </tr>\n",
       "    <tr>\n",
       "      <th>2</th>\n",
       "      <td>Beautiful Goodbye</td>\n",
       "      <td>Maroon 5</td>\n",
       "    </tr>\n",
       "    <tr>\n",
       "      <th>3</th>\n",
       "      <td>Beautiful Mistakes (featuring Megan Thee Stall...</td>\n",
       "      <td>Maroon 5</td>\n",
       "    </tr>\n",
       "    <tr>\n",
       "      <th>4</th>\n",
       "      <td>Better That We Break</td>\n",
       "      <td>Maroon 5</td>\n",
       "    </tr>\n",
       "    <tr>\n",
       "      <th>...</th>\n",
       "      <td>...</td>\n",
       "      <td>...</td>\n",
       "    </tr>\n",
       "    <tr>\n",
       "      <th>103</th>\n",
       "      <td>Whiskey  (featuring ASAP Rocky)</td>\n",
       "      <td>Maroon 5</td>\n",
       "    </tr>\n",
       "    <tr>\n",
       "      <th>104</th>\n",
       "      <td>Who I Am  (featuring LunchMoney Lewis)</td>\n",
       "      <td>Maroon 5</td>\n",
       "    </tr>\n",
       "    <tr>\n",
       "      <th>105</th>\n",
       "      <td>Wipe Your Eyes</td>\n",
       "      <td>Maroon 5</td>\n",
       "    </tr>\n",
       "    <tr>\n",
       "      <th>106</th>\n",
       "      <td>Woman</td>\n",
       "      <td>Maroon 5</td>\n",
       "    </tr>\n",
       "    <tr>\n",
       "      <th>107</th>\n",
       "      <td>Wont Go Home Without You</td>\n",
       "      <td>Maroon 5</td>\n",
       "    </tr>\n",
       "  </tbody>\n",
       "</table>\n",
       "<p>108 rows × 2 columns</p>\n",
       "</div>"
      ],
      "text/plain": [
       "                                                  Song    Artist\n",
       "0                                              Animals  Maroon 5\n",
       "1                                    Back At Your Door  Maroon 5\n",
       "2                                    Beautiful Goodbye  Maroon 5\n",
       "3    Beautiful Mistakes (featuring Megan Thee Stall...  Maroon 5\n",
       "4                                 Better That We Break  Maroon 5\n",
       "..                                                 ...       ...\n",
       "103                    Whiskey  (featuring ASAP Rocky)  Maroon 5\n",
       "104             Who I Am  (featuring LunchMoney Lewis)  Maroon 5\n",
       "105                                     Wipe Your Eyes  Maroon 5\n",
       "106                                              Woman  Maroon 5\n",
       "107                           Wont Go Home Without You  Maroon 5\n",
       "\n",
       "[108 rows x 2 columns]"
      ]
     },
     "execution_count": 21,
     "metadata": {},
     "output_type": "execute_result"
    }
   ],
   "source": [
    "# Iterate through rows in the table\n",
    "maroon5_songs = []\n",
    "\n",
    "for row in table.find_all('tr')[1:]:\n",
    "    columns = row.find_all(['td','th'])\n",
    "    maroon5_songs.append(columns[0].text.strip().replace('\\'','').replace('\"',''))\n",
    "\n",
    "maroon5_songs\n",
    "maroon5 = pd.DataFrame({'Song':maroon5_songs, 'Artist':'Maroon 5'})\n",
    "maroon5"
   ]
  },
  {
   "cell_type": "markdown",
   "id": "5fd42ddf",
   "metadata": {},
   "source": [
    "### Wikipedia - List of Most Streamed Songs in the UK"
   ]
  },
  {
   "cell_type": "code",
   "execution_count": 22,
   "id": "c092c998",
   "metadata": {},
   "outputs": [],
   "source": [
    "url = \"https://en.wikipedia.org/wiki/List_of_most-streamed_songs_in_the_United_Kingdom\"\n",
    "response = requests.get(url)\n",
    "soup = BeautifulSoup(response.content, \"html.parser\")"
   ]
  },
  {
   "cell_type": "code",
   "execution_count": 23,
   "id": "17cdd8cf",
   "metadata": {},
   "outputs": [],
   "source": [
    "table = soup.find('table', class_='wikitable')"
   ]
  },
  {
   "cell_type": "code",
   "execution_count": 24,
   "id": "8f7a6bf1",
   "metadata": {},
   "outputs": [],
   "source": [
    "songs = []\n",
    "uk_artists = []\n",
    "row_count = 0 \n",
    "\n",
    "#the table has a non-conforming last row with comments. So using row-count variable to hit till the end\n",
    "#which using trial and error found it as 48. 15 and 16 is missing from the table in wiki\n",
    "\n",
    "for row in table.find_all('tr')[1:]:\n",
    "    columns = row.find_all(['td','th'])\n",
    "    songs.append(columns[1].text.strip().replace('\"', ''))\n",
    "    uk_artists.append(columns[2].text.strip())\n",
    "    \n",
    "    row_count+=1\n",
    "    if row_count >= 48 :\n",
    "        break\n",
    "#songs = songs.to_str.replace('\"','')\n",
    "uk_songs = pd.DataFrame({'Song':songs, 'Artist':uk_artists})\n",
    "#uk_songs"
   ]
  },
  {
   "cell_type": "code",
   "execution_count": 25,
   "id": "7e3dde15",
   "metadata": {},
   "outputs": [
    {
     "data": {
      "text/plain": [
       "(256, 2)"
      ]
     },
     "execution_count": 25,
     "metadata": {},
     "output_type": "execute_result"
    }
   ],
   "source": [
    "top_songs = pd.concat([top_100, maroon5, uk_songs])\n",
    "top_songs.shape"
   ]
  },
  {
   "cell_type": "code",
   "execution_count": 26,
   "id": "5b54b157",
   "metadata": {},
   "outputs": [
    {
     "data": {
      "text/html": [
       "<div>\n",
       "<style scoped>\n",
       "    .dataframe tbody tr th:only-of-type {\n",
       "        vertical-align: middle;\n",
       "    }\n",
       "\n",
       "    .dataframe tbody tr th {\n",
       "        vertical-align: top;\n",
       "    }\n",
       "\n",
       "    .dataframe thead th {\n",
       "        text-align: right;\n",
       "    }\n",
       "</style>\n",
       "<table border=\"1\" class=\"dataframe\">\n",
       "  <thead>\n",
       "    <tr style=\"text-align: right;\">\n",
       "      <th></th>\n",
       "      <th>Song</th>\n",
       "      <th>Artist</th>\n",
       "    </tr>\n",
       "  </thead>\n",
       "  <tbody>\n",
       "    <tr>\n",
       "      <th>251</th>\n",
       "      <td>Vossi Bop</td>\n",
       "      <td>Stormzy</td>\n",
       "    </tr>\n",
       "    <tr>\n",
       "      <th>252</th>\n",
       "      <td>Photograph</td>\n",
       "      <td>Ed Sheeran</td>\n",
       "    </tr>\n",
       "    <tr>\n",
       "      <th>253</th>\n",
       "      <td>Sorry</td>\n",
       "      <td>Justin Bieber</td>\n",
       "    </tr>\n",
       "    <tr>\n",
       "      <th>254</th>\n",
       "      <td>Closer</td>\n",
       "      <td>The Chainsmokers featuring Halsey</td>\n",
       "    </tr>\n",
       "    <tr>\n",
       "      <th>255</th>\n",
       "      <td>Do I Wanna Know?</td>\n",
       "      <td>Arctic Monkeys</td>\n",
       "    </tr>\n",
       "  </tbody>\n",
       "</table>\n",
       "</div>"
      ],
      "text/plain": [
       "                 Song                             Artist\n",
       "251         Vossi Bop                            Stormzy\n",
       "252        Photograph                         Ed Sheeran\n",
       "253             Sorry                      Justin Bieber\n",
       "254            Closer  The Chainsmokers featuring Halsey\n",
       "255  Do I Wanna Know?                     Arctic Monkeys"
      ]
     },
     "execution_count": 26,
     "metadata": {},
     "output_type": "execute_result"
    }
   ],
   "source": [
    "top_songs = top_songs.reset_index()\n",
    "top_songs = top_songs.drop('index', axis=1)\n",
    "top_songs.tail()"
   ]
  },
  {
   "cell_type": "code",
   "execution_count": 27,
   "id": "ba377d6e",
   "metadata": {},
   "outputs": [
    {
     "data": {
      "text/plain": [
       "(256, 2)"
      ]
     },
     "execution_count": 27,
     "metadata": {},
     "output_type": "execute_result"
    }
   ],
   "source": [
    "top_songs.shape"
   ]
  },
  {
   "cell_type": "markdown",
   "id": "e0fc84c4",
   "metadata": {},
   "source": [
    "### Song Recommender First Iteration\n",
    "- Ask for user input\n",
    "- If song present in the list, then recommend another song from the list\n",
    "- If not, a polite message"
   ]
  },
  {
   "cell_type": "code",
   "execution_count": 28,
   "id": "9026984c",
   "metadata": {},
   "outputs": [],
   "source": [
    "def song_recommender(title, artist):\n",
    "    #Convert the input to lower case\n",
    "    title_input = remove_special_characters(title.lower())\n",
    "    artist_input = remove_special_characters(artist.lower())\n",
    "    \n",
    "    # Check if the input combination is present in the dataframe\n",
    "    result = top_songs_lower[(top_songs_lower['Song'].values == title_input) & (top_songs_lower['Artist'].values == artist_input)]\n",
    "    #print(result)\n",
    "\n",
    "    if not result.empty:\n",
    "        #Get the indices\n",
    "        indices_to_remove = result.index\n",
    "        temp_top_songs = top_songs.drop(indices_to_remove)\n",
    "\n",
    "        rec_song = temp_top_songs.sample().squeeze()\n",
    "        print(f\"You might also like: {rec_song['Song']} by {rec_song['Artist']}\")\n",
    "    else:\n",
    "        print('We are sorry but we cannot provide a recommendation right now. We are working on it!')\n",
    "\n",
    "def remove_special_characters(text):\n",
    "    # Use a regular expression to replace non-alphanumeric characters with an empty string\n",
    "    return ''.join(e for e in text if e.isalnum() or e.isspace())"
   ]
  },
  {
   "cell_type": "code",
   "execution_count": 1,
   "id": "1c1a8043",
   "metadata": {},
   "outputs": [
    {
     "ename": "NameError",
     "evalue": "name 'top_songs' is not defined",
     "output_type": "error",
     "traceback": [
      "\u001b[0;31m---------------------------------------------------------------------------\u001b[0m",
      "\u001b[0;31mNameError\u001b[0m                                 Traceback (most recent call last)",
      "\u001b[0;32m/var/folders/6r/lrxk_tc53sdfs4vlhkwr45fc0000gn/T/ipykernel_15807/2509678477.py\u001b[0m in \u001b[0;36m<module>\u001b[0;34m\u001b[0m\n\u001b[1;32m      1\u001b[0m \u001b[0;31m# Getting all lower str\u001b[0m\u001b[0;34m\u001b[0m\u001b[0;34m\u001b[0m\u001b[0m\n\u001b[0;32m----> 2\u001b[0;31m \u001b[0mtop_songs_lower\u001b[0m \u001b[0;34m=\u001b[0m \u001b[0mtop_songs\u001b[0m\u001b[0;34m.\u001b[0m\u001b[0mapply\u001b[0m\u001b[0;34m(\u001b[0m\u001b[0;32mlambda\u001b[0m \u001b[0mx\u001b[0m\u001b[0;34m:\u001b[0m \u001b[0mx\u001b[0m\u001b[0;34m.\u001b[0m\u001b[0mastype\u001b[0m\u001b[0;34m(\u001b[0m\u001b[0mstr\u001b[0m\u001b[0;34m)\u001b[0m\u001b[0;34m.\u001b[0m\u001b[0mstr\u001b[0m\u001b[0;34m.\u001b[0m\u001b[0mlower\u001b[0m\u001b[0;34m(\u001b[0m\u001b[0;34m)\u001b[0m\u001b[0;34m)\u001b[0m\u001b[0;34m\u001b[0m\u001b[0;34m\u001b[0m\u001b[0m\n\u001b[0m\u001b[1;32m      3\u001b[0m \u001b[0mtop_songs_lower\u001b[0m\u001b[0;34m[\u001b[0m\u001b[0;34m'Song'\u001b[0m\u001b[0;34m]\u001b[0m \u001b[0;34m=\u001b[0m \u001b[0mtop_songs_lower\u001b[0m\u001b[0;34m[\u001b[0m\u001b[0;34m'Song'\u001b[0m\u001b[0;34m]\u001b[0m\u001b[0;34m.\u001b[0m\u001b[0mapply\u001b[0m\u001b[0;34m(\u001b[0m\u001b[0mremove_special_characters\u001b[0m\u001b[0;34m)\u001b[0m\u001b[0;34m\u001b[0m\u001b[0;34m\u001b[0m\u001b[0m\n\u001b[1;32m      4\u001b[0m \u001b[0;31m#top_songs_lower\u001b[0m\u001b[0;34m\u001b[0m\u001b[0;34m\u001b[0m\u001b[0m\n",
      "\u001b[0;31mNameError\u001b[0m: name 'top_songs' is not defined"
     ]
    }
   ],
   "source": [
    "# Getting all lower str\n",
    "top_songs_lower = top_songs.apply(lambda x: x.astype(str).str.lower())\n",
    "top_songs_lower['Song'] = top_songs_lower['Song'].apply(remove_special_characters)\n",
    "#top_songs_lower"
   ]
  },
  {
   "cell_type": "code",
   "execution_count": 30,
   "id": "9e2684d7",
   "metadata": {},
   "outputs": [
    {
     "ename": "KeyboardInterrupt",
     "evalue": "Interrupted by user",
     "output_type": "error",
     "traceback": [
      "\u001b[0;31m---------------------------------------------------------------------------\u001b[0m",
      "\u001b[0;31mKeyboardInterrupt\u001b[0m                         Traceback (most recent call last)",
      "\u001b[0;32m/var/folders/6r/lrxk_tc53sdfs4vlhkwr45fc0000gn/T/ipykernel_7708/2740276404.py\u001b[0m in \u001b[0;36m<module>\u001b[0;34m\u001b[0m\n\u001b[1;32m      1\u001b[0m \u001b[0;31m#Get user input\u001b[0m\u001b[0;34m\u001b[0m\u001b[0;34m\u001b[0m\u001b[0m\n\u001b[0;32m----> 2\u001b[0;31m \u001b[0mtitle_input\u001b[0m \u001b[0;34m=\u001b[0m \u001b[0minput\u001b[0m\u001b[0;34m(\u001b[0m\u001b[0;34m'Please Enter the Song Title: '\u001b[0m\u001b[0;34m)\u001b[0m\u001b[0;34m\u001b[0m\u001b[0;34m\u001b[0m\u001b[0m\n\u001b[0m\u001b[1;32m      3\u001b[0m \u001b[0martist_input\u001b[0m \u001b[0;34m=\u001b[0m \u001b[0minput\u001b[0m\u001b[0;34m(\u001b[0m\u001b[0;34m'Please Enter the Artist Name: '\u001b[0m\u001b[0;34m)\u001b[0m\u001b[0;34m\u001b[0m\u001b[0;34m\u001b[0m\u001b[0m\n\u001b[1;32m      4\u001b[0m \u001b[0msong_recommender\u001b[0m\u001b[0;34m(\u001b[0m\u001b[0mtitle_input\u001b[0m\u001b[0;34m,\u001b[0m \u001b[0martist_input\u001b[0m\u001b[0;34m)\u001b[0m\u001b[0;34m\u001b[0m\u001b[0;34m\u001b[0m\u001b[0m\n",
      "\u001b[0;32m~/opt/anaconda3/lib/python3.9/site-packages/ipykernel/kernelbase.py\u001b[0m in \u001b[0;36mraw_input\u001b[0;34m(self, prompt)\u001b[0m\n\u001b[1;32m   1175\u001b[0m                 \u001b[0;34m\"raw_input was called, but this frontend does not support input requests.\"\u001b[0m\u001b[0;34m\u001b[0m\u001b[0;34m\u001b[0m\u001b[0m\n\u001b[1;32m   1176\u001b[0m             )\n\u001b[0;32m-> 1177\u001b[0;31m         return self._input_request(\n\u001b[0m\u001b[1;32m   1178\u001b[0m             \u001b[0mstr\u001b[0m\u001b[0;34m(\u001b[0m\u001b[0mprompt\u001b[0m\u001b[0;34m)\u001b[0m\u001b[0;34m,\u001b[0m\u001b[0;34m\u001b[0m\u001b[0;34m\u001b[0m\u001b[0m\n\u001b[1;32m   1179\u001b[0m             \u001b[0mself\u001b[0m\u001b[0;34m.\u001b[0m\u001b[0m_parent_ident\u001b[0m\u001b[0;34m[\u001b[0m\u001b[0;34m\"shell\"\u001b[0m\u001b[0;34m]\u001b[0m\u001b[0;34m,\u001b[0m\u001b[0;34m\u001b[0m\u001b[0;34m\u001b[0m\u001b[0m\n",
      "\u001b[0;32m~/opt/anaconda3/lib/python3.9/site-packages/ipykernel/kernelbase.py\u001b[0m in \u001b[0;36m_input_request\u001b[0;34m(self, prompt, ident, parent, password)\u001b[0m\n\u001b[1;32m   1217\u001b[0m             \u001b[0;32mexcept\u001b[0m \u001b[0mKeyboardInterrupt\u001b[0m\u001b[0;34m:\u001b[0m\u001b[0;34m\u001b[0m\u001b[0;34m\u001b[0m\u001b[0m\n\u001b[1;32m   1218\u001b[0m                 \u001b[0;31m# re-raise KeyboardInterrupt, to truncate traceback\u001b[0m\u001b[0;34m\u001b[0m\u001b[0;34m\u001b[0m\u001b[0m\n\u001b[0;32m-> 1219\u001b[0;31m                 \u001b[0;32mraise\u001b[0m \u001b[0mKeyboardInterrupt\u001b[0m\u001b[0;34m(\u001b[0m\u001b[0;34m\"Interrupted by user\"\u001b[0m\u001b[0;34m)\u001b[0m \u001b[0;32mfrom\u001b[0m \u001b[0;32mNone\u001b[0m\u001b[0;34m\u001b[0m\u001b[0;34m\u001b[0m\u001b[0m\n\u001b[0m\u001b[1;32m   1220\u001b[0m             \u001b[0;32mexcept\u001b[0m \u001b[0mException\u001b[0m\u001b[0;34m:\u001b[0m\u001b[0;34m\u001b[0m\u001b[0;34m\u001b[0m\u001b[0m\n\u001b[1;32m   1221\u001b[0m                 \u001b[0mself\u001b[0m\u001b[0;34m.\u001b[0m\u001b[0mlog\u001b[0m\u001b[0;34m.\u001b[0m\u001b[0mwarning\u001b[0m\u001b[0;34m(\u001b[0m\u001b[0;34m\"Invalid Message:\"\u001b[0m\u001b[0;34m,\u001b[0m \u001b[0mexc_info\u001b[0m\u001b[0;34m=\u001b[0m\u001b[0;32mTrue\u001b[0m\u001b[0;34m)\u001b[0m\u001b[0;34m\u001b[0m\u001b[0;34m\u001b[0m\u001b[0m\n",
      "\u001b[0;31mKeyboardInterrupt\u001b[0m: Interrupted by user"
     ]
    }
   ],
   "source": [
    "#Get user input\n",
    "title_input = input('Please Enter the Song Title: ')\n",
    "artist_input = input('Please Enter the Artist Name: ')\n",
    "song_recommender(title_input, artist_input)"
   ]
  },
  {
   "cell_type": "code",
   "execution_count": 31,
   "id": "929d3bfe",
   "metadata": {},
   "outputs": [],
   "source": [
    "top_songs.to_csv('top_songs.csv', index=False)"
   ]
  },
  {
   "cell_type": "code",
   "execution_count": null,
   "id": "4725dc6f",
   "metadata": {},
   "outputs": [],
   "source": []
  }
 ],
 "metadata": {
  "kernelspec": {
   "display_name": "Python 3 (ipykernel)",
   "language": "python",
   "name": "python3"
  },
  "language_info": {
   "codemirror_mode": {
    "name": "ipython",
    "version": 3
   },
   "file_extension": ".py",
   "mimetype": "text/x-python",
   "name": "python",
   "nbconvert_exporter": "python",
   "pygments_lexer": "ipython3",
   "version": "3.9.13"
  }
 },
 "nbformat": 4,
 "nbformat_minor": 5
}
